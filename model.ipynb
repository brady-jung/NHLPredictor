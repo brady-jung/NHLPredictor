{
 "cells": [
  {
   "cell_type": "code",
   "execution_count": 11,
   "metadata": {},
   "outputs": [],
   "source": [
    "import pandas as pd\n",
    "import seaborn as sns\n",
    "import matplotlib.pyplot as plt\n",
    "from sklearn.linear_model import LogisticRegression\n",
    "from sklearn.model_selection import train_test_split\n",
    "from sklearn.metrics import confusion_matrix\n",
    "import requests\n",
    "import json"
   ]
  },
  {
   "cell_type": "code",
   "execution_count": 9,
   "metadata": {},
   "outputs": [
    {
     "name": "stdout",
     "output_type": "stream",
     "text": [
      "{\"league\":{\"id\":\"fd560107-a85b-4388-ab0d-655ad022aff7\",\"name\":\"NHL\",\"alias\":\"NHL\"},\"season\":{\"id\":\"9a5fb1fb-5cd9-4b9b-a957-c1dc5eb1a0f3\",\"year\":2023,\"type\":\"REG\"},\"conferences\":[{\"id\":\"7ab1c9c0-4ffa-4f27-bcb6-be54d6ca6127\",\"name\":\"EASTERN CONFERENCE\",\"alias\":\"EASTERN\",\"divisions\":[{\"id\":\"1fad71d8-5b9e-4159-921b-9b98d0573f51\",\"name\":\"Atlantic\",\"alias\":\"ATLANTIC\",\"teams\":[{\"id\":\"4418464d-0f24-11e2-8525-18a905767e44\",\"name\":\"Panthers\",\"market\":\"Florida\",\"sr_id\":\"sr:team:3687\",\"reference\":\"13\",\"rank\":{\"division\":1,\"conference\":3,\"clinched\":\"division\"}},{\"id\":\"4416ba1a-0f24-11e2-8525-18a905767e44\",\"name\":\"Bruins\",\"market\":\"Boston\",\"sr_id\":\"sr:team:3677\",\"reference\":\"6\",\"rank\":{\"division\":2,\"conference\":4,\"clinched\":\"playoff_spot\"}},{\"id\":\"441730a9-0f24-11e2-8525-18a905767e44\",\"name\":\"Maple Leafs\",\"market\":\"Toronto\",\"sr_id\":\"sr:team:3693\",\"reference\":\"10\",\"rank\":{\"division\":3,\"conference\":5,\"clinched\":\"playoff_spot\"}},{\"id\":\"4417d3cb-0f24-11e2-8525-18a905767e44\",\"name\":\"Lightning\",\"market\":\"Tampa Bay\",\"sr_id\":\"sr:team:3694\",\"reference\":\"14\",\"rank\":{\"division\":4,\"conference\":6,\"clinched\":\"playoff_spot\",\"wildcard\":1}},{\"id\":\"44169bb9-0f24-11e2-8525-18a905767e44\",\"name\":\"Red Wings\",\"market\":\"Detroit\",\"sr_id\":\"sr:team:3685\",\"reference\":\"17\",\"rank\":{\"division\":5,\"conference\":9,\"clinched\":\"eliminated\",\"wildcard\":3}},{\"id\":\"4416d559-0f24-11e2-8525-18a905767e44\",\"name\":\"Sabres\",\"market\":\"Buffalo\",\"sr_id\":\"sr:team:3678\",\"reference\":\"7\",\"rank\":{\"division\":6,\"conference\":12,\"clinched\":\"eliminated\",\"wildcard\":6}},{\"id\":\"4416f5e2-0f24-11e2-8525-18a905767e44\",\"name\":\"Senators\",\"market\":\"Ottawa\",\"sr_id\":\"sr:team:3700\",\"reference\":\"9\",\"rank\":{\"division\":7,\"conference\":14,\"clinched\":\"eliminated\",\"wildcard\":8}},{\"id\":\"441713b7-0f24-11e2-8525-18a905767e44\",\"name\":\"Canadiens\",\"market\":\"Montreal\",\"sr_id\":\"sr:team:3690\",\"reference\":\"8\",\"rank\":{\"division\":8,\"conference\":15,\"clinched\":\"eliminated\",\"wildcard\":9}}]},{\"id\":\"d5ec45c4-a691-43ac-9e6d-92de92e763e7\",\"name\":\"Metropolitan\",\"alias\":\"METROPOLITAN\",\"teams\":[{\"id\":\"441781b9-0f24-11e2-8525-18a905767e44\",\"name\":\"Rangers\",\"market\":\"New York\",\"sr_id\":\"sr:team:3701\",\"reference\":\"3\",\"rank\":{\"division\":1,\"conference\":1,\"clinched\":\"presidents_trophy\"}},{\"id\":\"44182a9d-0f24-11e2-8525-18a905767e44\",\"name\":\"Hurricanes\",\"market\":\"Carolina\",\"sr_id\":\"sr:team:3680\",\"reference\":\"12\",\"rank\":{\"division\":2,\"conference\":2,\"clinched\":\"playoff_spot\"}},{\"id\":\"441766b9-0f24-11e2-8525-18a905767e44\",\"name\":\"Islanders\",\"market\":\"New York\",\"sr_id\":\"sr:team:3703\",\"reference\":\"2\",\"rank\":{\"division\":3,\"conference\":7,\"clinched\":\"playoff_spot\"}},{\"id\":\"4417eede-0f24-11e2-8525-18a905767e44\",\"name\":\"Capitals\",\"market\":\"Washington\",\"sr_id\":\"sr:team:3691\",\"reference\":\"15\",\"rank\":{\"division\":4,\"conference\":8,\"clinched\":\"playoff_spot\",\"wildcard\":2}},{\"id\":\"4417b7d7-0f24-11e2-8525-18a905767e44\",\"name\":\"Penguins\",\"market\":\"Pittsburgh\",\"sr_id\":\"sr:team:3697\",\"reference\":\"5\",\"rank\":{\"division\":5,\"conference\":10,\"clinched\":\"eliminated\",\"wildcard\":4}},{\"id\":\"44179d47-0f24-11e2-8525-18a905767e44\",\"name\":\"Flyers\",\"market\":\"Philadelphia\",\"sr_id\":\"sr:team:3699\",\"reference\":\"4\",\"rank\":{\"division\":6,\"conference\":11,\"clinched\":\"eliminated\",\"wildcard\":5}},{\"id\":\"44174b0c-0f24-11e2-8525-18a905767e44\",\"name\":\"Devils\",\"market\":\"New Jersey\",\"sr_id\":\"sr:team:3704\",\"reference\":\"1\",\"rank\":{\"division\":7,\"conference\":13,\"clinched\":\"eliminated\",\"wildcard\":7}},{\"id\":\"44167db4-0f24-11e2-8525-18a905767e44\",\"name\":\"Blue Jackets\",\"market\":\"Columbus\",\"sr_id\":\"sr:team:3683\",\"reference\":\"29\",\"rank\":{\"division\":8,\"conference\":16,\"clinched\":\"eliminated\",\"wildcard\":10}}]}]},{\"id\":\"64901512-9ca9-4bea-aa80-16dbcbdae230\",\"name\":\"WESTERN CONFERENCE\",\"alias\":\"WESTERN\",\"divisions\":[{\"id\":\"5e868c4d-c6a3-4901-bc3c-3b7a4509e402\",\"name\":\"Central\",\"alias\":\"CENTRAL\",\"teams\":[{\"id\":\"44157522-0f24-11e2-8525-18a905767e44\",\"name\":\"Stars\",\"market\":\"Dallas\",\"sr_id\":\"sr:team:3684\",\"reference\":\"25\",\"rank\":{\"division\":1,\"conference\":1,\"clinched\":\"conference\"}},{\"id\":\"44180e55-0f24-11e2-8525-18a905767e44\",\"name\":\"Jets\",\"market\":\"Winnipeg\",\"sr_id\":\"sr:team:3676\",\"reference\":\"52\",\"rank\":{\"division\":2,\"conference\":2,\"clinched\":\"playoff_spot\"}},{\"id\":\"4415ce44-0f24-11e2-8525-18a905767e44\",\"name\":\"Avalanche\",\"market\":\"Colorado\",\"sr_id\":\"sr:team:3682\",\"reference\":\"21\",\"rank\":{\"division\":3,\"conference\":4,\"clinched\":\"playoff_spot\"}},{\"id\":\"441643b7-0f24-11e2-8525-18a905767e44\",\"name\":\"Predators\",\"market\":\"Nashville\",\"sr_id\":\"sr:team:3705\",\"reference\":\"18\",\"rank\":{\"division\":4,\"conference\":6,\"clinched\":\"playoff_spot\",\"wildcard\":1}},{\"id\":\"441660ea-0f24-11e2-8525-18a905767e44\",\"name\":\"Blues\",\"market\":\"St. Louis\",\"sr_id\":\"sr:team:3695\",\"reference\":\"19\",\"rank\":{\"division\":5,\"conference\":9,\"clinched\":\"eliminated\",\"wildcard\":3}},{\"id\":\"4416091c-0f24-11e2-8525-18a905767e44\",\"name\":\"Wild\",\"market\":\"Minnesota\",\"sr_id\":\"sr:team:3689\",\"reference\":\"30\",\"rank\":{\"division\":6,\"conference\":10,\"clinched\":\"eliminated\",\"wildcard\":4}},{\"id\":\"44153da1-0f24-11e2-8525-18a905767e44\",\"name\":\"Coyotes\",\"market\":\"Arizona\",\"sr_id\":\"sr:team:3698\",\"reference\":\"53\",\"rank\":{\"division\":7,\"conference\":13,\"clinched\":\"eliminated\",\"wildcard\":7}},{\"id\":\"4416272f-0f24-11e2-8525-18a905767e44\",\"name\":\"Blackhawks\",\"market\":\"Chicago\",\"sr_id\":\"sr:team:3681\",\"reference\":\"16\",\"rank\":{\"division\":8,\"conference\":15,\"clinched\":\"eliminated\",\"wildcard\":9}}]},{\"id\":\"17101b65-e8b9-4cda-a963-eea874aed81f\",\"name\":\"Pacific\",\"alias\":\"PACIFIC\",\"teams\":[{\"id\":\"4415b0a7-0f24-11e2-8525-18a905767e44\",\"name\":\"Canucks\",\"market\":\"Vancouver\",\"sr_id\":\"sr:team:3692\",\"reference\":\"23\",\"rank\":{\"division\":1,\"conference\":3,\"clinched\":\"division\"}},{\"id\":\"4415ea6c-0f24-11e2-8525-18a905767e44\",\"name\":\"Oilers\",\"market\":\"Edmonton\",\"sr_id\":\"sr:team:3686\",\"reference\":\"22\",\"rank\":{\"division\":2,\"conference\":5,\"clinched\":\"playoff_spot\"}},{\"id\":\"44151f7a-0f24-11e2-8525-18a905767e44\",\"name\":\"Kings\",\"market\":\"Los Angeles\",\"sr_id\":\"sr:team:3688\",\"reference\":\"26\",\"rank\":{\"division\":3,\"conference\":7,\"clinched\":\"playoff_spot\"}},{\"id\":\"42376e1c-6da8-461e-9443-cfcf0a9fcc4d\",\"name\":\"Golden Knights\",\"market\":\"Vegas\",\"sr_id\":\"sr:team:344158\",\"reference\":\"54\",\"rank\":{\"division\":4,\"conference\":8,\"clinched\":\"playoff_spot\",\"wildcard\":2}},{\"id\":\"44159241-0f24-11e2-8525-18a905767e44\",\"name\":\"Flames\",\"market\":\"Calgary\",\"sr_id\":\"sr:team:3679\",\"reference\":\"20\",\"rank\":{\"division\":5,\"conference\":11,\"clinched\":\"eliminated\",\"wildcard\":5}},{\"id\":\"1fb48e65-9688-4084-8868-02173525c3e1\",\"name\":\"Kraken\",\"market\":\"Seattle\",\"sr_id\":\"sr:team:794340\",\"reference\":\"55\",\"rank\":{\"division\":6,\"conference\":12,\"clinched\":\"eliminated\",\"wildcard\":6}},{\"id\":\"441862de-0f24-11e2-8525-18a905767e44\",\"name\":\"Ducks\",\"market\":\"Anaheim\",\"sr_id\":\"sr:team:3675\",\"reference\":\"24\",\"rank\":{\"division\":7,\"conference\":14,\"clinched\":\"eliminated\",\"wildcard\":8}},{\"id\":\"44155909-0f24-11e2-8525-18a905767e44\",\"name\":\"Sharks\",\"market\":\"San Jose\",\"sr_id\":\"sr:team:3696\",\"reference\":\"28\",\"rank\":{\"division\":8,\"conference\":16,\"clinched\":\"eliminated\",\"wildcard\":10}}]}]}]}\n"
     ]
    },
    {
     "name": "stderr",
     "output_type": "stream",
     "text": [
      "/var/folders/_h/vhfb2h1n6v35yb9bys91j37m0000gn/T/ipykernel_53223/1966590867.py:9: FutureWarning: Passing literal json to 'read_json' is deprecated and will be removed in a future version. To read from a literal string, wrap it in a 'StringIO' object.\n",
      "  df = pd.read_json(response.text)\n"
     ]
    },
    {
     "ename": "ValueError",
     "evalue": "Mixing dicts with non-Series may lead to ambiguous ordering.",
     "output_type": "error",
     "traceback": [
      "\u001b[0;31m---------------------------------------------------------------------------\u001b[0m",
      "\u001b[0;31mValueError\u001b[0m                                Traceback (most recent call last)",
      "\u001b[1;32m/Users/brady/Desktop/NHL_Predictor/NHLPredictor/model.ipynb Cell 2\u001b[0m line \u001b[0;36m9\n\u001b[1;32m      <a href='vscode-notebook-cell:/Users/brady/Desktop/NHL_Predictor/NHLPredictor/model.ipynb#W1sZmlsZQ%3D%3D?line=4'>5</a>\u001b[0m response \u001b[39m=\u001b[39m requests\u001b[39m.\u001b[39mget(url, headers\u001b[39m=\u001b[39mheaders)\n\u001b[1;32m      <a href='vscode-notebook-cell:/Users/brady/Desktop/NHL_Predictor/NHLPredictor/model.ipynb#W1sZmlsZQ%3D%3D?line=6'>7</a>\u001b[0m \u001b[39mprint\u001b[39m(response\u001b[39m.\u001b[39mtext)\n\u001b[0;32m----> <a href='vscode-notebook-cell:/Users/brady/Desktop/NHL_Predictor/NHLPredictor/model.ipynb#W1sZmlsZQ%3D%3D?line=8'>9</a>\u001b[0m df \u001b[39m=\u001b[39m pd\u001b[39m.\u001b[39;49mread_json(response\u001b[39m.\u001b[39;49mtext)\n",
      "File \u001b[0;32m~/Desktop/NHL_Predictor/NHLPredictor/.venv/lib/python3.10/site-packages/pandas/io/json/_json.py:815\u001b[0m, in \u001b[0;36mread_json\u001b[0;34m(path_or_buf, orient, typ, dtype, convert_axes, convert_dates, keep_default_dates, precise_float, date_unit, encoding, encoding_errors, lines, chunksize, compression, nrows, storage_options, dtype_backend, engine)\u001b[0m\n\u001b[1;32m    813\u001b[0m     \u001b[39mreturn\u001b[39;00m json_reader\n\u001b[1;32m    814\u001b[0m \u001b[39melse\u001b[39;00m:\n\u001b[0;32m--> 815\u001b[0m     \u001b[39mreturn\u001b[39;00m json_reader\u001b[39m.\u001b[39;49mread()\n",
      "File \u001b[0;32m~/Desktop/NHL_Predictor/NHLPredictor/.venv/lib/python3.10/site-packages/pandas/io/json/_json.py:1025\u001b[0m, in \u001b[0;36mJsonReader.read\u001b[0;34m(self)\u001b[0m\n\u001b[1;32m   1023\u001b[0m         obj \u001b[39m=\u001b[39m \u001b[39mself\u001b[39m\u001b[39m.\u001b[39m_get_object_parser(\u001b[39mself\u001b[39m\u001b[39m.\u001b[39m_combine_lines(data_lines))\n\u001b[1;32m   1024\u001b[0m \u001b[39melse\u001b[39;00m:\n\u001b[0;32m-> 1025\u001b[0m     obj \u001b[39m=\u001b[39m \u001b[39mself\u001b[39;49m\u001b[39m.\u001b[39;49m_get_object_parser(\u001b[39mself\u001b[39;49m\u001b[39m.\u001b[39;49mdata)\n\u001b[1;32m   1026\u001b[0m \u001b[39mif\u001b[39;00m \u001b[39mself\u001b[39m\u001b[39m.\u001b[39mdtype_backend \u001b[39mis\u001b[39;00m \u001b[39mnot\u001b[39;00m lib\u001b[39m.\u001b[39mno_default:\n\u001b[1;32m   1027\u001b[0m     \u001b[39mreturn\u001b[39;00m obj\u001b[39m.\u001b[39mconvert_dtypes(\n\u001b[1;32m   1028\u001b[0m         infer_objects\u001b[39m=\u001b[39m\u001b[39mFalse\u001b[39;00m, dtype_backend\u001b[39m=\u001b[39m\u001b[39mself\u001b[39m\u001b[39m.\u001b[39mdtype_backend\n\u001b[1;32m   1029\u001b[0m     )\n",
      "File \u001b[0;32m~/Desktop/NHL_Predictor/NHLPredictor/.venv/lib/python3.10/site-packages/pandas/io/json/_json.py:1051\u001b[0m, in \u001b[0;36mJsonReader._get_object_parser\u001b[0;34m(self, json)\u001b[0m\n\u001b[1;32m   1049\u001b[0m obj \u001b[39m=\u001b[39m \u001b[39mNone\u001b[39;00m\n\u001b[1;32m   1050\u001b[0m \u001b[39mif\u001b[39;00m typ \u001b[39m==\u001b[39m \u001b[39m\"\u001b[39m\u001b[39mframe\u001b[39m\u001b[39m\"\u001b[39m:\n\u001b[0;32m-> 1051\u001b[0m     obj \u001b[39m=\u001b[39m FrameParser(json, \u001b[39m*\u001b[39;49m\u001b[39m*\u001b[39;49mkwargs)\u001b[39m.\u001b[39;49mparse()\n\u001b[1;32m   1053\u001b[0m \u001b[39mif\u001b[39;00m typ \u001b[39m==\u001b[39m \u001b[39m\"\u001b[39m\u001b[39mseries\u001b[39m\u001b[39m\"\u001b[39m \u001b[39mor\u001b[39;00m obj \u001b[39mis\u001b[39;00m \u001b[39mNone\u001b[39;00m:\n\u001b[1;32m   1054\u001b[0m     \u001b[39mif\u001b[39;00m \u001b[39mnot\u001b[39;00m \u001b[39misinstance\u001b[39m(dtype, \u001b[39mbool\u001b[39m):\n",
      "File \u001b[0;32m~/Desktop/NHL_Predictor/NHLPredictor/.venv/lib/python3.10/site-packages/pandas/io/json/_json.py:1187\u001b[0m, in \u001b[0;36mParser.parse\u001b[0;34m(self)\u001b[0m\n\u001b[1;32m   1185\u001b[0m \u001b[39m@final\u001b[39m\n\u001b[1;32m   1186\u001b[0m \u001b[39mdef\u001b[39;00m \u001b[39mparse\u001b[39m(\u001b[39mself\u001b[39m):\n\u001b[0;32m-> 1187\u001b[0m     \u001b[39mself\u001b[39;49m\u001b[39m.\u001b[39;49m_parse()\n\u001b[1;32m   1189\u001b[0m     \u001b[39mif\u001b[39;00m \u001b[39mself\u001b[39m\u001b[39m.\u001b[39mobj \u001b[39mis\u001b[39;00m \u001b[39mNone\u001b[39;00m:\n\u001b[1;32m   1190\u001b[0m         \u001b[39mreturn\u001b[39;00m \u001b[39mNone\u001b[39;00m\n",
      "File \u001b[0;32m~/Desktop/NHL_Predictor/NHLPredictor/.venv/lib/python3.10/site-packages/pandas/io/json/_json.py:1402\u001b[0m, in \u001b[0;36mFrameParser._parse\u001b[0;34m(self)\u001b[0m\n\u001b[1;32m   1399\u001b[0m orient \u001b[39m=\u001b[39m \u001b[39mself\u001b[39m\u001b[39m.\u001b[39morient\n\u001b[1;32m   1401\u001b[0m \u001b[39mif\u001b[39;00m orient \u001b[39m==\u001b[39m \u001b[39m\"\u001b[39m\u001b[39mcolumns\u001b[39m\u001b[39m\"\u001b[39m:\n\u001b[0;32m-> 1402\u001b[0m     \u001b[39mself\u001b[39m\u001b[39m.\u001b[39mobj \u001b[39m=\u001b[39m DataFrame(\n\u001b[1;32m   1403\u001b[0m         ujson_loads(json, precise_float\u001b[39m=\u001b[39;49m\u001b[39mself\u001b[39;49m\u001b[39m.\u001b[39;49mprecise_float), dtype\u001b[39m=\u001b[39;49m\u001b[39mNone\u001b[39;49;00m\n\u001b[1;32m   1404\u001b[0m     )\n\u001b[1;32m   1405\u001b[0m \u001b[39melif\u001b[39;00m orient \u001b[39m==\u001b[39m \u001b[39m\"\u001b[39m\u001b[39msplit\u001b[39m\u001b[39m\"\u001b[39m:\n\u001b[1;32m   1406\u001b[0m     decoded \u001b[39m=\u001b[39m {\n\u001b[1;32m   1407\u001b[0m         \u001b[39mstr\u001b[39m(k): v\n\u001b[1;32m   1408\u001b[0m         \u001b[39mfor\u001b[39;00m k, v \u001b[39min\u001b[39;00m ujson_loads(json, precise_float\u001b[39m=\u001b[39m\u001b[39mself\u001b[39m\u001b[39m.\u001b[39mprecise_float)\u001b[39m.\u001b[39mitems()\n\u001b[1;32m   1409\u001b[0m     }\n",
      "File \u001b[0;32m~/Desktop/NHL_Predictor/NHLPredictor/.venv/lib/python3.10/site-packages/pandas/core/frame.py:778\u001b[0m, in \u001b[0;36mDataFrame.__init__\u001b[0;34m(self, data, index, columns, dtype, copy)\u001b[0m\n\u001b[1;32m    772\u001b[0m     mgr \u001b[39m=\u001b[39m \u001b[39mself\u001b[39m\u001b[39m.\u001b[39m_init_mgr(\n\u001b[1;32m    773\u001b[0m         data, axes\u001b[39m=\u001b[39m{\u001b[39m\"\u001b[39m\u001b[39mindex\u001b[39m\u001b[39m\"\u001b[39m: index, \u001b[39m\"\u001b[39m\u001b[39mcolumns\u001b[39m\u001b[39m\"\u001b[39m: columns}, dtype\u001b[39m=\u001b[39mdtype, copy\u001b[39m=\u001b[39mcopy\n\u001b[1;32m    774\u001b[0m     )\n\u001b[1;32m    776\u001b[0m \u001b[39melif\u001b[39;00m \u001b[39misinstance\u001b[39m(data, \u001b[39mdict\u001b[39m):\n\u001b[1;32m    777\u001b[0m     \u001b[39m# GH#38939 de facto copy defaults to False only in non-dict cases\u001b[39;00m\n\u001b[0;32m--> 778\u001b[0m     mgr \u001b[39m=\u001b[39m dict_to_mgr(data, index, columns, dtype\u001b[39m=\u001b[39;49mdtype, copy\u001b[39m=\u001b[39;49mcopy, typ\u001b[39m=\u001b[39;49mmanager)\n\u001b[1;32m    779\u001b[0m \u001b[39melif\u001b[39;00m \u001b[39misinstance\u001b[39m(data, ma\u001b[39m.\u001b[39mMaskedArray):\n\u001b[1;32m    780\u001b[0m     \u001b[39mfrom\u001b[39;00m \u001b[39mnumpy\u001b[39;00m\u001b[39m.\u001b[39;00m\u001b[39mma\u001b[39;00m \u001b[39mimport\u001b[39;00m mrecords\n",
      "File \u001b[0;32m~/Desktop/NHL_Predictor/NHLPredictor/.venv/lib/python3.10/site-packages/pandas/core/internals/construction.py:503\u001b[0m, in \u001b[0;36mdict_to_mgr\u001b[0;34m(data, index, columns, dtype, typ, copy)\u001b[0m\n\u001b[1;32m    499\u001b[0m     \u001b[39melse\u001b[39;00m:\n\u001b[1;32m    500\u001b[0m         \u001b[39m# dtype check to exclude e.g. range objects, scalars\u001b[39;00m\n\u001b[1;32m    501\u001b[0m         arrays \u001b[39m=\u001b[39m [x\u001b[39m.\u001b[39mcopy() \u001b[39mif\u001b[39;00m \u001b[39mhasattr\u001b[39m(x, \u001b[39m\"\u001b[39m\u001b[39mdtype\u001b[39m\u001b[39m\"\u001b[39m) \u001b[39melse\u001b[39;00m x \u001b[39mfor\u001b[39;00m x \u001b[39min\u001b[39;00m arrays]\n\u001b[0;32m--> 503\u001b[0m \u001b[39mreturn\u001b[39;00m arrays_to_mgr(arrays, columns, index, dtype\u001b[39m=\u001b[39;49mdtype, typ\u001b[39m=\u001b[39;49mtyp, consolidate\u001b[39m=\u001b[39;49mcopy)\n",
      "File \u001b[0;32m~/Desktop/NHL_Predictor/NHLPredictor/.venv/lib/python3.10/site-packages/pandas/core/internals/construction.py:114\u001b[0m, in \u001b[0;36marrays_to_mgr\u001b[0;34m(arrays, columns, index, dtype, verify_integrity, typ, consolidate)\u001b[0m\n\u001b[1;32m    111\u001b[0m \u001b[39mif\u001b[39;00m verify_integrity:\n\u001b[1;32m    112\u001b[0m     \u001b[39m# figure out the index, if necessary\u001b[39;00m\n\u001b[1;32m    113\u001b[0m     \u001b[39mif\u001b[39;00m index \u001b[39mis\u001b[39;00m \u001b[39mNone\u001b[39;00m:\n\u001b[0;32m--> 114\u001b[0m         index \u001b[39m=\u001b[39m _extract_index(arrays)\n\u001b[1;32m    115\u001b[0m     \u001b[39melse\u001b[39;00m:\n\u001b[1;32m    116\u001b[0m         index \u001b[39m=\u001b[39m ensure_index(index)\n",
      "File \u001b[0;32m~/Desktop/NHL_Predictor/NHLPredictor/.venv/lib/python3.10/site-packages/pandas/core/internals/construction.py:680\u001b[0m, in \u001b[0;36m_extract_index\u001b[0;34m(data)\u001b[0m\n\u001b[1;32m    677\u001b[0m     \u001b[39mraise\u001b[39;00m \u001b[39mValueError\u001b[39;00m(\u001b[39m\"\u001b[39m\u001b[39mAll arrays must be of the same length\u001b[39m\u001b[39m\"\u001b[39m)\n\u001b[1;32m    679\u001b[0m \u001b[39mif\u001b[39;00m have_dicts:\n\u001b[0;32m--> 680\u001b[0m     \u001b[39mraise\u001b[39;00m \u001b[39mValueError\u001b[39;00m(\n\u001b[1;32m    681\u001b[0m         \u001b[39m\"\u001b[39m\u001b[39mMixing dicts with non-Series may lead to ambiguous ordering.\u001b[39m\u001b[39m\"\u001b[39m\n\u001b[1;32m    682\u001b[0m     )\n\u001b[1;32m    684\u001b[0m \u001b[39mif\u001b[39;00m have_series:\n\u001b[1;32m    685\u001b[0m     \u001b[39mif\u001b[39;00m lengths[\u001b[39m0\u001b[39m] \u001b[39m!=\u001b[39m \u001b[39mlen\u001b[39m(index):\n",
      "\u001b[0;31mValueError\u001b[0m: Mixing dicts with non-Series may lead to ambiguous ordering."
     ]
    }
   ],
   "source": [
    "\n",
    "url = \"https://api.sportradar.com/nhl/trial/v7/en/seasons/2023/REG/rankings.json?api_key=3uBbVOdl4d7LoIqGnGoyLagn30aheIpO8wRk6K3Y\"\n",
    "\n",
    "headers = {\"accept\": \"application/json\"}\n",
    "\n",
    "response = requests.get(url, headers=headers)\n",
    "\n",
    "print(response.text)"
   ]
  },
  {
   "cell_type": "code",
   "execution_count": 10,
   "metadata": {},
   "outputs": [
    {
     "name": "stdout",
     "output_type": "stream",
     "text": [
      "{\"league\":{\"id\":\"fd560107-a85b-4388-ab0d-655ad022aff7\",\"name\":\"NHL\",\"alias\":\"NHL\"},\"season\":{\"id\":\"9a5fb1fb-5cd9-4b9b-a957-c1dc5eb1a0f3\",\"year\":2023,\"type\":\"REG\"},\"conferences\":[{\"id\":\"7ab1c9c0-4ffa-4f27-bcb6-be54d6ca6127\",\"name\":\"EASTERN CONFERENCE\",\"alias\":\"EASTERN\",\"divisions\":[{\"id\":\"1fad71d8-5b9e-4159-921b-9b98d0573f51\",\"name\":\"Atlantic\",\"alias\":\"ATLANTIC\",\"teams\":[{\"id\":\"4418464d-0f24-11e2-8525-18a905767e44\",\"name\":\"Panthers\",\"market\":\"Florida\",\"sr_id\":\"sr:team:3687\",\"reference\":\"13\",\"rank\":{\"division\":1,\"conference\":3,\"clinched\":\"division\"}},{\"id\":\"4416ba1a-0f24-11e2-8525-18a905767e44\",\"name\":\"Bruins\",\"market\":\"Boston\",\"sr_id\":\"sr:team:3677\",\"reference\":\"6\",\"rank\":{\"division\":2,\"conference\":4,\"clinched\":\"playoff_spot\"}},{\"id\":\"441730a9-0f24-11e2-8525-18a905767e44\",\"name\":\"Maple Leafs\",\"market\":\"Toronto\",\"sr_id\":\"sr:team:3693\",\"reference\":\"10\",\"rank\":{\"division\":3,\"conference\":5,\"clinched\":\"playoff_spot\"}},{\"id\":\"4417d3cb-0f24-11e2-8525-18a905767e44\",\"name\":\"Lightning\",\"market\":\"Tampa Bay\",\"sr_id\":\"sr:team:3694\",\"reference\":\"14\",\"rank\":{\"division\":4,\"conference\":6,\"clinched\":\"playoff_spot\",\"wildcard\":1}},{\"id\":\"44169bb9-0f24-11e2-8525-18a905767e44\",\"name\":\"Red Wings\",\"market\":\"Detroit\",\"sr_id\":\"sr:team:3685\",\"reference\":\"17\",\"rank\":{\"division\":5,\"conference\":9,\"clinched\":\"eliminated\",\"wildcard\":3}},{\"id\":\"4416d559-0f24-11e2-8525-18a905767e44\",\"name\":\"Sabres\",\"market\":\"Buffalo\",\"sr_id\":\"sr:team:3678\",\"reference\":\"7\",\"rank\":{\"division\":6,\"conference\":12,\"clinched\":\"eliminated\",\"wildcard\":6}},{\"id\":\"4416f5e2-0f24-11e2-8525-18a905767e44\",\"name\":\"Senators\",\"market\":\"Ottawa\",\"sr_id\":\"sr:team:3700\",\"reference\":\"9\",\"rank\":{\"division\":7,\"conference\":14,\"clinched\":\"eliminated\",\"wildcard\":8}},{\"id\":\"441713b7-0f24-11e2-8525-18a905767e44\",\"name\":\"Canadiens\",\"market\":\"Montreal\",\"sr_id\":\"sr:team:3690\",\"reference\":\"8\",\"rank\":{\"division\":8,\"conference\":15,\"clinched\":\"eliminated\",\"wildcard\":9}}]},{\"id\":\"d5ec45c4-a691-43ac-9e6d-92de92e763e7\",\"name\":\"Metropolitan\",\"alias\":\"METROPOLITAN\",\"teams\":[{\"id\":\"441781b9-0f24-11e2-8525-18a905767e44\",\"name\":\"Rangers\",\"market\":\"New York\",\"sr_id\":\"sr:team:3701\",\"reference\":\"3\",\"rank\":{\"division\":1,\"conference\":1,\"clinched\":\"presidents_trophy\"}},{\"id\":\"44182a9d-0f24-11e2-8525-18a905767e44\",\"name\":\"Hurricanes\",\"market\":\"Carolina\",\"sr_id\":\"sr:team:3680\",\"reference\":\"12\",\"rank\":{\"division\":2,\"conference\":2,\"clinched\":\"playoff_spot\"}},{\"id\":\"441766b9-0f24-11e2-8525-18a905767e44\",\"name\":\"Islanders\",\"market\":\"New York\",\"sr_id\":\"sr:team:3703\",\"reference\":\"2\",\"rank\":{\"division\":3,\"conference\":7,\"clinched\":\"playoff_spot\"}},{\"id\":\"4417eede-0f24-11e2-8525-18a905767e44\",\"name\":\"Capitals\",\"market\":\"Washington\",\"sr_id\":\"sr:team:3691\",\"reference\":\"15\",\"rank\":{\"division\":4,\"conference\":8,\"clinched\":\"playoff_spot\",\"wildcard\":2}},{\"id\":\"4417b7d7-0f24-11e2-8525-18a905767e44\",\"name\":\"Penguins\",\"market\":\"Pittsburgh\",\"sr_id\":\"sr:team:3697\",\"reference\":\"5\",\"rank\":{\"division\":5,\"conference\":10,\"clinched\":\"eliminated\",\"wildcard\":4}},{\"id\":\"44179d47-0f24-11e2-8525-18a905767e44\",\"name\":\"Flyers\",\"market\":\"Philadelphia\",\"sr_id\":\"sr:team:3699\",\"reference\":\"4\",\"rank\":{\"division\":6,\"conference\":11,\"clinched\":\"eliminated\",\"wildcard\":5}},{\"id\":\"44174b0c-0f24-11e2-8525-18a905767e44\",\"name\":\"Devils\",\"market\":\"New Jersey\",\"sr_id\":\"sr:team:3704\",\"reference\":\"1\",\"rank\":{\"division\":7,\"conference\":13,\"clinched\":\"eliminated\",\"wildcard\":7}},{\"id\":\"44167db4-0f24-11e2-8525-18a905767e44\",\"name\":\"Blue Jackets\",\"market\":\"Columbus\",\"sr_id\":\"sr:team:3683\",\"reference\":\"29\",\"rank\":{\"division\":8,\"conference\":16,\"clinched\":\"eliminated\",\"wildcard\":10}}]}]},{\"id\":\"64901512-9ca9-4bea-aa80-16dbcbdae230\",\"name\":\"WESTERN CONFERENCE\",\"alias\":\"WESTERN\",\"divisions\":[{\"id\":\"5e868c4d-c6a3-4901-bc3c-3b7a4509e402\",\"name\":\"Central\",\"alias\":\"CENTRAL\",\"teams\":[{\"id\":\"44157522-0f24-11e2-8525-18a905767e44\",\"name\":\"Stars\",\"market\":\"Dallas\",\"sr_id\":\"sr:team:3684\",\"reference\":\"25\",\"rank\":{\"division\":1,\"conference\":1,\"clinched\":\"conference\"}},{\"id\":\"44180e55-0f24-11e2-8525-18a905767e44\",\"name\":\"Jets\",\"market\":\"Winnipeg\",\"sr_id\":\"sr:team:3676\",\"reference\":\"52\",\"rank\":{\"division\":2,\"conference\":2,\"clinched\":\"playoff_spot\"}},{\"id\":\"4415ce44-0f24-11e2-8525-18a905767e44\",\"name\":\"Avalanche\",\"market\":\"Colorado\",\"sr_id\":\"sr:team:3682\",\"reference\":\"21\",\"rank\":{\"division\":3,\"conference\":4,\"clinched\":\"playoff_spot\"}},{\"id\":\"441643b7-0f24-11e2-8525-18a905767e44\",\"name\":\"Predators\",\"market\":\"Nashville\",\"sr_id\":\"sr:team:3705\",\"reference\":\"18\",\"rank\":{\"division\":4,\"conference\":6,\"clinched\":\"playoff_spot\",\"wildcard\":1}},{\"id\":\"441660ea-0f24-11e2-8525-18a905767e44\",\"name\":\"Blues\",\"market\":\"St. Louis\",\"sr_id\":\"sr:team:3695\",\"reference\":\"19\",\"rank\":{\"division\":5,\"conference\":9,\"clinched\":\"eliminated\",\"wildcard\":3}},{\"id\":\"4416091c-0f24-11e2-8525-18a905767e44\",\"name\":\"Wild\",\"market\":\"Minnesota\",\"sr_id\":\"sr:team:3689\",\"reference\":\"30\",\"rank\":{\"division\":6,\"conference\":10,\"clinched\":\"eliminated\",\"wildcard\":4}},{\"id\":\"44153da1-0f24-11e2-8525-18a905767e44\",\"name\":\"Coyotes\",\"market\":\"Arizona\",\"sr_id\":\"sr:team:3698\",\"reference\":\"53\",\"rank\":{\"division\":7,\"conference\":13,\"clinched\":\"eliminated\",\"wildcard\":7}},{\"id\":\"4416272f-0f24-11e2-8525-18a905767e44\",\"name\":\"Blackhawks\",\"market\":\"Chicago\",\"sr_id\":\"sr:team:3681\",\"reference\":\"16\",\"rank\":{\"division\":8,\"conference\":15,\"clinched\":\"eliminated\",\"wildcard\":9}}]},{\"id\":\"17101b65-e8b9-4cda-a963-eea874aed81f\",\"name\":\"Pacific\",\"alias\":\"PACIFIC\",\"teams\":[{\"id\":\"4415b0a7-0f24-11e2-8525-18a905767e44\",\"name\":\"Canucks\",\"market\":\"Vancouver\",\"sr_id\":\"sr:team:3692\",\"reference\":\"23\",\"rank\":{\"division\":1,\"conference\":3,\"clinched\":\"division\"}},{\"id\":\"4415ea6c-0f24-11e2-8525-18a905767e44\",\"name\":\"Oilers\",\"market\":\"Edmonton\",\"sr_id\":\"sr:team:3686\",\"reference\":\"22\",\"rank\":{\"division\":2,\"conference\":5,\"clinched\":\"playoff_spot\"}},{\"id\":\"44151f7a-0f24-11e2-8525-18a905767e44\",\"name\":\"Kings\",\"market\":\"Los Angeles\",\"sr_id\":\"sr:team:3688\",\"reference\":\"26\",\"rank\":{\"division\":3,\"conference\":7,\"clinched\":\"playoff_spot\"}},{\"id\":\"42376e1c-6da8-461e-9443-cfcf0a9fcc4d\",\"name\":\"Golden Knights\",\"market\":\"Vegas\",\"sr_id\":\"sr:team:344158\",\"reference\":\"54\",\"rank\":{\"division\":4,\"conference\":8,\"clinched\":\"playoff_spot\",\"wildcard\":2}},{\"id\":\"44159241-0f24-11e2-8525-18a905767e44\",\"name\":\"Flames\",\"market\":\"Calgary\",\"sr_id\":\"sr:team:3679\",\"reference\":\"20\",\"rank\":{\"division\":5,\"conference\":11,\"clinched\":\"eliminated\",\"wildcard\":5}},{\"id\":\"1fb48e65-9688-4084-8868-02173525c3e1\",\"name\":\"Kraken\",\"market\":\"Seattle\",\"sr_id\":\"sr:team:794340\",\"reference\":\"55\",\"rank\":{\"division\":6,\"conference\":12,\"clinched\":\"eliminated\",\"wildcard\":6}},{\"id\":\"441862de-0f24-11e2-8525-18a905767e44\",\"name\":\"Ducks\",\"market\":\"Anaheim\",\"sr_id\":\"sr:team:3675\",\"reference\":\"24\",\"rank\":{\"division\":7,\"conference\":14,\"clinched\":\"eliminated\",\"wildcard\":8}},{\"id\":\"44155909-0f24-11e2-8525-18a905767e44\",\"name\":\"Sharks\",\"market\":\"San Jose\",\"sr_id\":\"sr:team:3696\",\"reference\":\"28\",\"rank\":{\"division\":8,\"conference\":16,\"clinched\":\"eliminated\",\"wildcard\":10}}]}]}]}\n"
     ]
    }
   ],
   "source": [
    "print(response.text)\n",
    "# df = pd.read_json(response.text)"
   ]
  },
  {
   "cell_type": "code",
   "execution_count": null,
   "metadata": {},
   "outputs": [],
   "source": []
  },
  {
   "cell_type": "code",
   "execution_count": 20,
   "metadata": {},
   "outputs": [],
   "source": [
    "data = json.loads(response.text)\n",
    "with open('rankings.json', 'w') as f:\n",
    "    json.dump(data, f)\n"
   ]
  },
  {
   "cell_type": "code",
   "execution_count": 22,
   "metadata": {},
   "outputs": [
    {
     "name": "stdout",
     "output_type": "stream",
     "text": [
      "<class 'pandas.core.frame.DataFrame'>\n",
      "RangeIndex: 1 entries, 0 to 0\n",
      "Data columns (total 7 columns):\n",
      " #   Column        Non-Null Count  Dtype \n",
      "---  ------        --------------  ----- \n",
      " 0   conferences   1 non-null      object\n",
      " 1   league.id     1 non-null      object\n",
      " 2   league.name   1 non-null      object\n",
      " 3   league.alias  1 non-null      object\n",
      " 4   season.id     1 non-null      object\n",
      " 5   season.year   1 non-null      int64 \n",
      " 6   season.type   1 non-null      object\n",
      "dtypes: int64(1), object(6)\n",
      "memory usage: 184.0+ bytes\n"
     ]
    }
   ],
   "source": [
    "\n",
    "df = pd.json_normalize(data)\n",
    "df.info()"
   ]
  }
 ],
 "metadata": {
  "kernelspec": {
   "display_name": ".venv",
   "language": "python",
   "name": "python3"
  },
  "language_info": {
   "codemirror_mode": {
    "name": "ipython",
    "version": 3
   },
   "file_extension": ".py",
   "mimetype": "text/x-python",
   "name": "python",
   "nbconvert_exporter": "python",
   "pygments_lexer": "ipython3",
   "version": "3.10.4"
  },
  "orig_nbformat": 4
 },
 "nbformat": 4,
 "nbformat_minor": 2
}
